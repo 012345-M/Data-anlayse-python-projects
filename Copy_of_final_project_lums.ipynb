{
  "nbformat": 4,
  "nbformat_minor": 0,
  "metadata": {
    "colab": {
      "name": "Copy of final project lums",
      "provenance": [],
      "authorship_tag": "ABX9TyO2kvh7Bz2FOJ/T6GGqlsXk",
      "include_colab_link": true
    },
    "kernelspec": {
      "name": "python3",
      "display_name": "Python 3"
    },
    "language_info": {
      "name": "python"
    }
  },
  "cells": [
    {
      "cell_type": "markdown",
      "metadata": {
        "id": "view-in-github",
        "colab_type": "text"
      },
      "source": [
        "<a href=\"https://colab.research.google.com/github/012345-M/Data-anlyse-python-project/blob/main/Copy_of_final_project_lums.ipynb\" target=\"_parent\"><img src=\"https://colab.research.google.com/assets/colab-badge.svg\" alt=\"Open In Colab\"/></a>"
      ]
    },
    {
      "cell_type": "code",
      "metadata": {
        "colab": {
          "base_uri": "https://localhost:8080/",
          "height": 408
        },
        "id": "tPiLoNWkB9pm",
        "outputId": "579845c1-3e4e-42e8-8d35-2ee2dcf83f86"
      },
      "source": [
        "import pandas as pd                    # read csv file\n",
        "import numpy as np\n",
        "import matplotlib.pyplot as plt\n",
        "import seaborn as sns\n",
        "\n",
        "weather_df = pd.read_csv(\"https://raw.githubusercontent.com/datawizardsai/Data-Science/master/weather.csv\")\n",
        "weather_df"
      ],
      "execution_count": null,
      "outputs": [
        {
          "output_type": "execute_result",
          "data": {
            "text/html": [
              "<div>\n",
              "<style scoped>\n",
              "    .dataframe tbody tr th:only-of-type {\n",
              "        vertical-align: middle;\n",
              "    }\n",
              "\n",
              "    .dataframe tbody tr th {\n",
              "        vertical-align: top;\n",
              "    }\n",
              "\n",
              "    .dataframe thead th {\n",
              "        text-align: right;\n",
              "    }\n",
              "</style>\n",
              "<table border=\"1\" class=\"dataframe\">\n",
              "  <thead>\n",
              "    <tr style=\"text-align: right;\">\n",
              "      <th></th>\n",
              "      <th>Description</th>\n",
              "      <th>Humidity</th>\n",
              "      <th>Wind_Speed_kmh</th>\n",
              "      <th>Wind_Bearing_degrees</th>\n",
              "      <th>Visibility_km</th>\n",
              "      <th>Pressure_millibars</th>\n",
              "      <th>Rain</th>\n",
              "      <th>Temperature</th>\n",
              "    </tr>\n",
              "  </thead>\n",
              "  <tbody>\n",
              "    <tr>\n",
              "      <th>0</th>\n",
              "      <td>Cold</td>\n",
              "      <td>0.92</td>\n",
              "      <td>11.2700</td>\n",
              "      <td>130</td>\n",
              "      <td>8.0500</td>\n",
              "      <td>1021.60</td>\n",
              "      <td>0</td>\n",
              "      <td>-0.555556</td>\n",
              "    </tr>\n",
              "    <tr>\n",
              "      <th>1</th>\n",
              "      <td>Warm</td>\n",
              "      <td>0.73</td>\n",
              "      <td>20.9300</td>\n",
              "      <td>330</td>\n",
              "      <td>16.1000</td>\n",
              "      <td>1017.00</td>\n",
              "      <td>1</td>\n",
              "      <td>21.111111</td>\n",
              "    </tr>\n",
              "    <tr>\n",
              "      <th>2</th>\n",
              "      <td>Normal</td>\n",
              "      <td>0.97</td>\n",
              "      <td>5.9731</td>\n",
              "      <td>193</td>\n",
              "      <td>14.9086</td>\n",
              "      <td>1013.99</td>\n",
              "      <td>1</td>\n",
              "      <td>16.600000</td>\n",
              "    </tr>\n",
              "    <tr>\n",
              "      <th>3</th>\n",
              "      <td>Cold</td>\n",
              "      <td>0.82</td>\n",
              "      <td>3.2200</td>\n",
              "      <td>300</td>\n",
              "      <td>16.1000</td>\n",
              "      <td>1031.59</td>\n",
              "      <td>1</td>\n",
              "      <td>1.600000</td>\n",
              "    </tr>\n",
              "    <tr>\n",
              "      <th>4</th>\n",
              "      <td>Cold</td>\n",
              "      <td>0.60</td>\n",
              "      <td>10.8836</td>\n",
              "      <td>116</td>\n",
              "      <td>9.9820</td>\n",
              "      <td>1020.88</td>\n",
              "      <td>1</td>\n",
              "      <td>2.194444</td>\n",
              "    </tr>\n",
              "    <tr>\n",
              "      <th>...</th>\n",
              "      <td>...</td>\n",
              "      <td>...</td>\n",
              "      <td>...</td>\n",
              "      <td>...</td>\n",
              "      <td>...</td>\n",
              "      <td>...</td>\n",
              "      <td>...</td>\n",
              "      <td>...</td>\n",
              "    </tr>\n",
              "    <tr>\n",
              "      <th>9995</th>\n",
              "      <td>Normal</td>\n",
              "      <td>0.95</td>\n",
              "      <td>10.2396</td>\n",
              "      <td>20</td>\n",
              "      <td>4.0089</td>\n",
              "      <td>1007.41</td>\n",
              "      <td>1</td>\n",
              "      <td>10.022222</td>\n",
              "    </tr>\n",
              "    <tr>\n",
              "      <th>9996</th>\n",
              "      <td>Normal</td>\n",
              "      <td>0.64</td>\n",
              "      <td>11.0446</td>\n",
              "      <td>80</td>\n",
              "      <td>9.9820</td>\n",
              "      <td>1031.33</td>\n",
              "      <td>1</td>\n",
              "      <td>8.633333</td>\n",
              "    </tr>\n",
              "    <tr>\n",
              "      <th>9997</th>\n",
              "      <td>Normal</td>\n",
              "      <td>0.93</td>\n",
              "      <td>11.0446</td>\n",
              "      <td>269</td>\n",
              "      <td>14.9086</td>\n",
              "      <td>1014.21</td>\n",
              "      <td>1</td>\n",
              "      <td>5.977778</td>\n",
              "    </tr>\n",
              "    <tr>\n",
              "      <th>9998</th>\n",
              "      <td>Normal</td>\n",
              "      <td>0.78</td>\n",
              "      <td>8.1788</td>\n",
              "      <td>231</td>\n",
              "      <td>7.8246</td>\n",
              "      <td>1005.02</td>\n",
              "      <td>1</td>\n",
              "      <td>9.788889</td>\n",
              "    </tr>\n",
              "    <tr>\n",
              "      <th>9999</th>\n",
              "      <td>Normal</td>\n",
              "      <td>0.79</td>\n",
              "      <td>14.2485</td>\n",
              "      <td>131</td>\n",
              "      <td>10.2557</td>\n",
              "      <td>1010.14</td>\n",
              "      <td>1</td>\n",
              "      <td>11.138889</td>\n",
              "    </tr>\n",
              "  </tbody>\n",
              "</table>\n",
              "<p>10000 rows × 8 columns</p>\n",
              "</div>"
            ],
            "text/plain": [
              "     Description  Humidity  ...  Rain  Temperature\n",
              "0           Cold      0.92  ...     0    -0.555556\n",
              "1           Warm      0.73  ...     1    21.111111\n",
              "2         Normal      0.97  ...     1    16.600000\n",
              "3           Cold      0.82  ...     1     1.600000\n",
              "4           Cold      0.60  ...     1     2.194444\n",
              "...          ...       ...  ...   ...          ...\n",
              "9995      Normal      0.95  ...     1    10.022222\n",
              "9996      Normal      0.64  ...     1     8.633333\n",
              "9997      Normal      0.93  ...     1     5.977778\n",
              "9998      Normal      0.78  ...     1     9.788889\n",
              "9999      Normal      0.79  ...     1    11.138889\n",
              "\n",
              "[10000 rows x 8 columns]"
            ]
          },
          "metadata": {
            "tags": []
          },
          "execution_count": 9
        }
      ]
    },
    {
      "cell_type": "code",
      "metadata": {
        "colab": {
          "base_uri": "https://localhost:8080/",
          "height": 408
        },
        "id": "7_bkoCo0iFLn",
        "outputId": "d3f91b90-6469-4c76-dbf9-79e15604ba21"
      },
      "source": [
        "weatehr_df=weather_df.fillna(np.mean(weather_df)) \n",
        "weather_df  # fill in the null values with mean"
      ],
      "execution_count": null,
      "outputs": [
        {
          "output_type": "execute_result",
          "data": {
            "text/html": [
              "<div>\n",
              "<style scoped>\n",
              "    .dataframe tbody tr th:only-of-type {\n",
              "        vertical-align: middle;\n",
              "    }\n",
              "\n",
              "    .dataframe tbody tr th {\n",
              "        vertical-align: top;\n",
              "    }\n",
              "\n",
              "    .dataframe thead th {\n",
              "        text-align: right;\n",
              "    }\n",
              "</style>\n",
              "<table border=\"1\" class=\"dataframe\">\n",
              "  <thead>\n",
              "    <tr style=\"text-align: right;\">\n",
              "      <th></th>\n",
              "      <th>Description</th>\n",
              "      <th>Humidity</th>\n",
              "      <th>Wind_Speed_kmh</th>\n",
              "      <th>Wind_Bearing_degrees</th>\n",
              "      <th>Visibility_km</th>\n",
              "      <th>Pressure_millibars</th>\n",
              "      <th>Rain</th>\n",
              "      <th>Temperature</th>\n",
              "    </tr>\n",
              "  </thead>\n",
              "  <tbody>\n",
              "    <tr>\n",
              "      <th>0</th>\n",
              "      <td>Cold</td>\n",
              "      <td>0.92</td>\n",
              "      <td>11.2700</td>\n",
              "      <td>130</td>\n",
              "      <td>8.0500</td>\n",
              "      <td>1021.60</td>\n",
              "      <td>0</td>\n",
              "      <td>-0.555556</td>\n",
              "    </tr>\n",
              "    <tr>\n",
              "      <th>1</th>\n",
              "      <td>Warm</td>\n",
              "      <td>0.73</td>\n",
              "      <td>20.9300</td>\n",
              "      <td>330</td>\n",
              "      <td>16.1000</td>\n",
              "      <td>1017.00</td>\n",
              "      <td>1</td>\n",
              "      <td>21.111111</td>\n",
              "    </tr>\n",
              "    <tr>\n",
              "      <th>2</th>\n",
              "      <td>Normal</td>\n",
              "      <td>0.97</td>\n",
              "      <td>5.9731</td>\n",
              "      <td>193</td>\n",
              "      <td>14.9086</td>\n",
              "      <td>1013.99</td>\n",
              "      <td>1</td>\n",
              "      <td>16.600000</td>\n",
              "    </tr>\n",
              "    <tr>\n",
              "      <th>3</th>\n",
              "      <td>Cold</td>\n",
              "      <td>0.82</td>\n",
              "      <td>3.2200</td>\n",
              "      <td>300</td>\n",
              "      <td>16.1000</td>\n",
              "      <td>1031.59</td>\n",
              "      <td>1</td>\n",
              "      <td>1.600000</td>\n",
              "    </tr>\n",
              "    <tr>\n",
              "      <th>4</th>\n",
              "      <td>Cold</td>\n",
              "      <td>0.60</td>\n",
              "      <td>10.8836</td>\n",
              "      <td>116</td>\n",
              "      <td>9.9820</td>\n",
              "      <td>1020.88</td>\n",
              "      <td>1</td>\n",
              "      <td>2.194444</td>\n",
              "    </tr>\n",
              "    <tr>\n",
              "      <th>...</th>\n",
              "      <td>...</td>\n",
              "      <td>...</td>\n",
              "      <td>...</td>\n",
              "      <td>...</td>\n",
              "      <td>...</td>\n",
              "      <td>...</td>\n",
              "      <td>...</td>\n",
              "      <td>...</td>\n",
              "    </tr>\n",
              "    <tr>\n",
              "      <th>9995</th>\n",
              "      <td>Normal</td>\n",
              "      <td>0.95</td>\n",
              "      <td>10.2396</td>\n",
              "      <td>20</td>\n",
              "      <td>4.0089</td>\n",
              "      <td>1007.41</td>\n",
              "      <td>1</td>\n",
              "      <td>10.022222</td>\n",
              "    </tr>\n",
              "    <tr>\n",
              "      <th>9996</th>\n",
              "      <td>Normal</td>\n",
              "      <td>0.64</td>\n",
              "      <td>11.0446</td>\n",
              "      <td>80</td>\n",
              "      <td>9.9820</td>\n",
              "      <td>1031.33</td>\n",
              "      <td>1</td>\n",
              "      <td>8.633333</td>\n",
              "    </tr>\n",
              "    <tr>\n",
              "      <th>9997</th>\n",
              "      <td>Normal</td>\n",
              "      <td>0.93</td>\n",
              "      <td>11.0446</td>\n",
              "      <td>269</td>\n",
              "      <td>14.9086</td>\n",
              "      <td>1014.21</td>\n",
              "      <td>1</td>\n",
              "      <td>5.977778</td>\n",
              "    </tr>\n",
              "    <tr>\n",
              "      <th>9998</th>\n",
              "      <td>Normal</td>\n",
              "      <td>0.78</td>\n",
              "      <td>8.1788</td>\n",
              "      <td>231</td>\n",
              "      <td>7.8246</td>\n",
              "      <td>1005.02</td>\n",
              "      <td>1</td>\n",
              "      <td>9.788889</td>\n",
              "    </tr>\n",
              "    <tr>\n",
              "      <th>9999</th>\n",
              "      <td>Normal</td>\n",
              "      <td>0.79</td>\n",
              "      <td>14.2485</td>\n",
              "      <td>131</td>\n",
              "      <td>10.2557</td>\n",
              "      <td>1010.14</td>\n",
              "      <td>1</td>\n",
              "      <td>11.138889</td>\n",
              "    </tr>\n",
              "  </tbody>\n",
              "</table>\n",
              "<p>10000 rows × 8 columns</p>\n",
              "</div>"
            ],
            "text/plain": [
              "     Description  Humidity  ...  Rain  Temperature\n",
              "0           Cold      0.92  ...     0    -0.555556\n",
              "1           Warm      0.73  ...     1    21.111111\n",
              "2         Normal      0.97  ...     1    16.600000\n",
              "3           Cold      0.82  ...     1     1.600000\n",
              "4           Cold      0.60  ...     1     2.194444\n",
              "...          ...       ...  ...   ...          ...\n",
              "9995      Normal      0.95  ...     1    10.022222\n",
              "9996      Normal      0.64  ...     1     8.633333\n",
              "9997      Normal      0.93  ...     1     5.977778\n",
              "9998      Normal      0.78  ...     1     9.788889\n",
              "9999      Normal      0.79  ...     1    11.138889\n",
              "\n",
              "[10000 rows x 8 columns]"
            ]
          },
          "metadata": {
            "tags": []
          },
          "execution_count": 11
        }
      ]
    },
    {
      "cell_type": "code",
      "metadata": {
        "colab": {
          "base_uri": "https://localhost:8080/",
          "height": 402
        },
        "id": "SPoJOSB8i_qH",
        "outputId": "892e09cf-938d-465d-ff98-71a9bf291c8b"
      },
      "source": [
        "x= weather_df.drop(['Description','Temperature'],axis=1)   # drop irrelevent columns and temperature dependent variable \n",
        "x"
      ],
      "execution_count": null,
      "outputs": [
        {
          "output_type": "execute_result",
          "data": {
            "text/html": [
              "<div>\n",
              "<style scoped>\n",
              "    .dataframe tbody tr th:only-of-type {\n",
              "        vertical-align: middle;\n",
              "    }\n",
              "\n",
              "    .dataframe tbody tr th {\n",
              "        vertical-align: top;\n",
              "    }\n",
              "\n",
              "    .dataframe thead th {\n",
              "        text-align: right;\n",
              "    }\n",
              "</style>\n",
              "<table border=\"1\" class=\"dataframe\">\n",
              "  <thead>\n",
              "    <tr style=\"text-align: right;\">\n",
              "      <th></th>\n",
              "      <th>Humidity</th>\n",
              "      <th>Wind_Speed_kmh</th>\n",
              "      <th>Wind_Bearing_degrees</th>\n",
              "      <th>Visibility_km</th>\n",
              "      <th>Pressure_millibars</th>\n",
              "      <th>Rain</th>\n",
              "    </tr>\n",
              "  </thead>\n",
              "  <tbody>\n",
              "    <tr>\n",
              "      <th>0</th>\n",
              "      <td>0.92</td>\n",
              "      <td>11.2700</td>\n",
              "      <td>130</td>\n",
              "      <td>8.0500</td>\n",
              "      <td>1021.60</td>\n",
              "      <td>0</td>\n",
              "    </tr>\n",
              "    <tr>\n",
              "      <th>1</th>\n",
              "      <td>0.73</td>\n",
              "      <td>20.9300</td>\n",
              "      <td>330</td>\n",
              "      <td>16.1000</td>\n",
              "      <td>1017.00</td>\n",
              "      <td>1</td>\n",
              "    </tr>\n",
              "    <tr>\n",
              "      <th>2</th>\n",
              "      <td>0.97</td>\n",
              "      <td>5.9731</td>\n",
              "      <td>193</td>\n",
              "      <td>14.9086</td>\n",
              "      <td>1013.99</td>\n",
              "      <td>1</td>\n",
              "    </tr>\n",
              "    <tr>\n",
              "      <th>3</th>\n",
              "      <td>0.82</td>\n",
              "      <td>3.2200</td>\n",
              "      <td>300</td>\n",
              "      <td>16.1000</td>\n",
              "      <td>1031.59</td>\n",
              "      <td>1</td>\n",
              "    </tr>\n",
              "    <tr>\n",
              "      <th>4</th>\n",
              "      <td>0.60</td>\n",
              "      <td>10.8836</td>\n",
              "      <td>116</td>\n",
              "      <td>9.9820</td>\n",
              "      <td>1020.88</td>\n",
              "      <td>1</td>\n",
              "    </tr>\n",
              "    <tr>\n",
              "      <th>...</th>\n",
              "      <td>...</td>\n",
              "      <td>...</td>\n",
              "      <td>...</td>\n",
              "      <td>...</td>\n",
              "      <td>...</td>\n",
              "      <td>...</td>\n",
              "    </tr>\n",
              "    <tr>\n",
              "      <th>9995</th>\n",
              "      <td>0.95</td>\n",
              "      <td>10.2396</td>\n",
              "      <td>20</td>\n",
              "      <td>4.0089</td>\n",
              "      <td>1007.41</td>\n",
              "      <td>1</td>\n",
              "    </tr>\n",
              "    <tr>\n",
              "      <th>9996</th>\n",
              "      <td>0.64</td>\n",
              "      <td>11.0446</td>\n",
              "      <td>80</td>\n",
              "      <td>9.9820</td>\n",
              "      <td>1031.33</td>\n",
              "      <td>1</td>\n",
              "    </tr>\n",
              "    <tr>\n",
              "      <th>9997</th>\n",
              "      <td>0.93</td>\n",
              "      <td>11.0446</td>\n",
              "      <td>269</td>\n",
              "      <td>14.9086</td>\n",
              "      <td>1014.21</td>\n",
              "      <td>1</td>\n",
              "    </tr>\n",
              "    <tr>\n",
              "      <th>9998</th>\n",
              "      <td>0.78</td>\n",
              "      <td>8.1788</td>\n",
              "      <td>231</td>\n",
              "      <td>7.8246</td>\n",
              "      <td>1005.02</td>\n",
              "      <td>1</td>\n",
              "    </tr>\n",
              "    <tr>\n",
              "      <th>9999</th>\n",
              "      <td>0.79</td>\n",
              "      <td>14.2485</td>\n",
              "      <td>131</td>\n",
              "      <td>10.2557</td>\n",
              "      <td>1010.14</td>\n",
              "      <td>1</td>\n",
              "    </tr>\n",
              "  </tbody>\n",
              "</table>\n",
              "<p>10000 rows × 6 columns</p>\n",
              "</div>"
            ],
            "text/plain": [
              "      Humidity  Wind_Speed_kmh  ...  Pressure_millibars  Rain\n",
              "0         0.92         11.2700  ...             1021.60     0\n",
              "1         0.73         20.9300  ...             1017.00     1\n",
              "2         0.97          5.9731  ...             1013.99     1\n",
              "3         0.82          3.2200  ...             1031.59     1\n",
              "4         0.60         10.8836  ...             1020.88     1\n",
              "...        ...             ...  ...                 ...   ...\n",
              "9995      0.95         10.2396  ...             1007.41     1\n",
              "9996      0.64         11.0446  ...             1031.33     1\n",
              "9997      0.93         11.0446  ...             1014.21     1\n",
              "9998      0.78          8.1788  ...             1005.02     1\n",
              "9999      0.79         14.2485  ...             1010.14     1\n",
              "\n",
              "[10000 rows x 6 columns]"
            ]
          },
          "metadata": {
            "tags": []
          },
          "execution_count": 87
        }
      ]
    },
    {
      "cell_type": "code",
      "metadata": {
        "colab": {
          "base_uri": "https://localhost:8080/"
        },
        "id": "ECUDKDLPItb2",
        "outputId": "cba39cfa-606f-4f79-8258-e86ffdf7ebaf"
      },
      "source": [
        "\n",
        "x.shape"
      ],
      "execution_count": null,
      "outputs": [
        {
          "output_type": "execute_result",
          "data": {
            "text/plain": [
              "(10000, 6)"
            ]
          },
          "metadata": {
            "tags": []
          },
          "execution_count": 88
        }
      ]
    },
    {
      "cell_type": "code",
      "metadata": {
        "colab": {
          "base_uri": "https://localhost:8080/",
          "height": 195
        },
        "id": "i8PI2PLZJK4L",
        "outputId": "85ea36a4-bd3d-4056-a1c9-f54a01827567"
      },
      "source": [
        "x.head()                             # see the first colums and rows to see the data"
      ],
      "execution_count": null,
      "outputs": [
        {
          "output_type": "execute_result",
          "data": {
            "text/html": [
              "<div>\n",
              "<style scoped>\n",
              "    .dataframe tbody tr th:only-of-type {\n",
              "        vertical-align: middle;\n",
              "    }\n",
              "\n",
              "    .dataframe tbody tr th {\n",
              "        vertical-align: top;\n",
              "    }\n",
              "\n",
              "    .dataframe thead th {\n",
              "        text-align: right;\n",
              "    }\n",
              "</style>\n",
              "<table border=\"1\" class=\"dataframe\">\n",
              "  <thead>\n",
              "    <tr style=\"text-align: right;\">\n",
              "      <th></th>\n",
              "      <th>Humidity</th>\n",
              "      <th>Wind_Speed_kmh</th>\n",
              "      <th>Wind_Bearing_degrees</th>\n",
              "      <th>Visibility_km</th>\n",
              "      <th>Pressure_millibars</th>\n",
              "      <th>Rain</th>\n",
              "    </tr>\n",
              "  </thead>\n",
              "  <tbody>\n",
              "    <tr>\n",
              "      <th>0</th>\n",
              "      <td>0.92</td>\n",
              "      <td>11.2700</td>\n",
              "      <td>130</td>\n",
              "      <td>8.0500</td>\n",
              "      <td>1021.60</td>\n",
              "      <td>0</td>\n",
              "    </tr>\n",
              "    <tr>\n",
              "      <th>1</th>\n",
              "      <td>0.73</td>\n",
              "      <td>20.9300</td>\n",
              "      <td>330</td>\n",
              "      <td>16.1000</td>\n",
              "      <td>1017.00</td>\n",
              "      <td>1</td>\n",
              "    </tr>\n",
              "    <tr>\n",
              "      <th>2</th>\n",
              "      <td>0.97</td>\n",
              "      <td>5.9731</td>\n",
              "      <td>193</td>\n",
              "      <td>14.9086</td>\n",
              "      <td>1013.99</td>\n",
              "      <td>1</td>\n",
              "    </tr>\n",
              "    <tr>\n",
              "      <th>3</th>\n",
              "      <td>0.82</td>\n",
              "      <td>3.2200</td>\n",
              "      <td>300</td>\n",
              "      <td>16.1000</td>\n",
              "      <td>1031.59</td>\n",
              "      <td>1</td>\n",
              "    </tr>\n",
              "    <tr>\n",
              "      <th>4</th>\n",
              "      <td>0.60</td>\n",
              "      <td>10.8836</td>\n",
              "      <td>116</td>\n",
              "      <td>9.9820</td>\n",
              "      <td>1020.88</td>\n",
              "      <td>1</td>\n",
              "    </tr>\n",
              "  </tbody>\n",
              "</table>\n",
              "</div>"
            ],
            "text/plain": [
              "   Humidity  Wind_Speed_kmh  ...  Pressure_millibars  Rain\n",
              "0      0.92         11.2700  ...             1021.60     0\n",
              "1      0.73         20.9300  ...             1017.00     1\n",
              "2      0.97          5.9731  ...             1013.99     1\n",
              "3      0.82          3.2200  ...             1031.59     1\n",
              "4      0.60         10.8836  ...             1020.88     1\n",
              "\n",
              "[5 rows x 6 columns]"
            ]
          },
          "metadata": {
            "tags": []
          },
          "execution_count": 89
        }
      ]
    },
    {
      "cell_type": "code",
      "metadata": {
        "colab": {
          "base_uri": "https://localhost:8080/"
        },
        "id": "pRMjh8KLLU0C",
        "outputId": "9a631edb-10c0-4c73-a812-f9ae1babb8bf"
      },
      "source": [
        "x.info()                                    # seeing data type float, integer and objects"
      ],
      "execution_count": null,
      "outputs": [
        {
          "output_type": "stream",
          "text": [
            "<class 'pandas.core.frame.DataFrame'>\n",
            "RangeIndex: 10000 entries, 0 to 9999\n",
            "Data columns (total 6 columns):\n",
            " #   Column                Non-Null Count  Dtype  \n",
            "---  ------                --------------  -----  \n",
            " 0   Humidity              10000 non-null  float64\n",
            " 1   Wind_Speed_kmh        10000 non-null  float64\n",
            " 2   Wind_Bearing_degrees  10000 non-null  int64  \n",
            " 3   Visibility_km         10000 non-null  float64\n",
            " 4   Pressure_millibars    10000 non-null  float64\n",
            " 5   Rain                  10000 non-null  int64  \n",
            "dtypes: float64(4), int64(2)\n",
            "memory usage: 468.9 KB\n"
          ],
          "name": "stdout"
        }
      ]
    },
    {
      "cell_type": "code",
      "metadata": {
        "colab": {
          "base_uri": "https://localhost:8080/"
        },
        "id": "aQ4X8uPzL71Z",
        "outputId": "e7c2cd01-c9fe-4f6b-91b6-ecd7efe96c61"
      },
      "source": [
        "x.columns                        # seeig what columns are there "
      ],
      "execution_count": null,
      "outputs": [
        {
          "output_type": "execute_result",
          "data": {
            "text/plain": [
              "Index(['Humidity', 'Wind_Speed_kmh', 'Wind_Bearing_degrees', 'Visibility_km',\n",
              "       'Pressure_millibars', 'Rain'],\n",
              "      dtype='object')"
            ]
          },
          "metadata": {
            "tags": []
          },
          "execution_count": 91
        }
      ]
    },
    {
      "cell_type": "code",
      "metadata": {
        "colab": {
          "base_uri": "https://localhost:8080/"
        },
        "id": "MBBZm8DzMuQV",
        "outputId": "9a1ce6b5-41df-4a20-9c96-69848da4b061"
      },
      "source": [
        "x.isnull().sum()              \n",
        " # gives you missing values , no missing values"
      ],
      "execution_count": null,
      "outputs": [
        {
          "output_type": "execute_result",
          "data": {
            "text/plain": [
              "Humidity                0\n",
              "Wind_Speed_kmh          0\n",
              "Wind_Bearing_degrees    0\n",
              "Visibility_km           0\n",
              "Pressure_millibars      0\n",
              "Rain                    0\n",
              "dtype: int64"
            ]
          },
          "metadata": {
            "tags": []
          },
          "execution_count": 92
        }
      ]
    },
    {
      "cell_type": "code",
      "metadata": {
        "id": "-_TqPj0uQlHv",
        "colab": {
          "base_uri": "https://localhost:8080/"
        },
        "outputId": "71fa222b-2688-4489-ad27-29e1f45eab2c"
      },
      "source": [
        "\n",
        "# take the array of the whole\n",
        "np_weather = np.array(weather_df)\n",
        "print(np_players)\n"
      ],
      "execution_count": null,
      "outputs": [
        {
          "output_type": "stream",
          "text": [
            "[['barkele01' 1955 'USA' ... 'ATL' 'NL' 870000]\n",
            " ['bedrost01' 1957 'USA' ... 'ATL' 'NL' 550000]\n",
            " ['benedbr01' 1955 'USA' ... 'ATL' 'NL' 545000]\n",
            " ...\n",
            " ['treinbl01' 1988 'USA' ... 'WAS' 'NL' 524900]\n",
            " ['werthja01' 1979 'USA' ... 'WAS' 'NL' 21733615]\n",
            " ['zimmery01' 1984 'USA' ... 'WAS' 'NL' 14000000]]\n"
          ],
          "name": "stdout"
        }
      ]
    },
    {
      "cell_type": "code",
      "metadata": {
        "colab": {
          "base_uri": "https://localhost:8080/",
          "height": 402
        },
        "id": "2liZkPCY7YgN",
        "outputId": "919c20cb-0038-48c0-fdd2-e4593b3d4b09"
      },
      "source": [
        "\n",
        "weather_df.loc[:,['Temperature']]     # see the values with the loc fuction for salarys\n"
      ],
      "execution_count": null,
      "outputs": [
        {
          "output_type": "execute_result",
          "data": {
            "text/html": [
              "<div>\n",
              "<style scoped>\n",
              "    .dataframe tbody tr th:only-of-type {\n",
              "        vertical-align: middle;\n",
              "    }\n",
              "\n",
              "    .dataframe tbody tr th {\n",
              "        vertical-align: top;\n",
              "    }\n",
              "\n",
              "    .dataframe thead th {\n",
              "        text-align: right;\n",
              "    }\n",
              "</style>\n",
              "<table border=\"1\" class=\"dataframe\">\n",
              "  <thead>\n",
              "    <tr style=\"text-align: right;\">\n",
              "      <th></th>\n",
              "      <th>Temperature</th>\n",
              "    </tr>\n",
              "  </thead>\n",
              "  <tbody>\n",
              "    <tr>\n",
              "      <th>0</th>\n",
              "      <td>-0.555556</td>\n",
              "    </tr>\n",
              "    <tr>\n",
              "      <th>1</th>\n",
              "      <td>21.111111</td>\n",
              "    </tr>\n",
              "    <tr>\n",
              "      <th>2</th>\n",
              "      <td>16.600000</td>\n",
              "    </tr>\n",
              "    <tr>\n",
              "      <th>3</th>\n",
              "      <td>1.600000</td>\n",
              "    </tr>\n",
              "    <tr>\n",
              "      <th>4</th>\n",
              "      <td>2.194444</td>\n",
              "    </tr>\n",
              "    <tr>\n",
              "      <th>...</th>\n",
              "      <td>...</td>\n",
              "    </tr>\n",
              "    <tr>\n",
              "      <th>9995</th>\n",
              "      <td>10.022222</td>\n",
              "    </tr>\n",
              "    <tr>\n",
              "      <th>9996</th>\n",
              "      <td>8.633333</td>\n",
              "    </tr>\n",
              "    <tr>\n",
              "      <th>9997</th>\n",
              "      <td>5.977778</td>\n",
              "    </tr>\n",
              "    <tr>\n",
              "      <th>9998</th>\n",
              "      <td>9.788889</td>\n",
              "    </tr>\n",
              "    <tr>\n",
              "      <th>9999</th>\n",
              "      <td>11.138889</td>\n",
              "    </tr>\n",
              "  </tbody>\n",
              "</table>\n",
              "<p>10000 rows × 1 columns</p>\n",
              "</div>"
            ],
            "text/plain": [
              "      Temperature\n",
              "0       -0.555556\n",
              "1       21.111111\n",
              "2       16.600000\n",
              "3        1.600000\n",
              "4        2.194444\n",
              "...           ...\n",
              "9995    10.022222\n",
              "9996     8.633333\n",
              "9997     5.977778\n",
              "9998     9.788889\n",
              "9999    11.138889\n",
              "\n",
              "[10000 rows x 1 columns]"
            ]
          },
          "metadata": {
            "tags": []
          },
          "execution_count": 94
        }
      ]
    },
    {
      "cell_type": "code",
      "metadata": {
        "colab": {
          "base_uri": "https://localhost:8080/",
          "height": 195
        },
        "id": "D3rEKB6_kvsc",
        "outputId": "f7673f67-13ff-4677-93d9-6cce9a4027eb"
      },
      "source": [
        "x.head()  # see droped colums data"
      ],
      "execution_count": null,
      "outputs": [
        {
          "output_type": "execute_result",
          "data": {
            "text/html": [
              "<div>\n",
              "<style scoped>\n",
              "    .dataframe tbody tr th:only-of-type {\n",
              "        vertical-align: middle;\n",
              "    }\n",
              "\n",
              "    .dataframe tbody tr th {\n",
              "        vertical-align: top;\n",
              "    }\n",
              "\n",
              "    .dataframe thead th {\n",
              "        text-align: right;\n",
              "    }\n",
              "</style>\n",
              "<table border=\"1\" class=\"dataframe\">\n",
              "  <thead>\n",
              "    <tr style=\"text-align: right;\">\n",
              "      <th></th>\n",
              "      <th>Humidity</th>\n",
              "      <th>Wind_Speed_kmh</th>\n",
              "      <th>Wind_Bearing_degrees</th>\n",
              "      <th>Visibility_km</th>\n",
              "      <th>Pressure_millibars</th>\n",
              "      <th>Rain</th>\n",
              "    </tr>\n",
              "  </thead>\n",
              "  <tbody>\n",
              "    <tr>\n",
              "      <th>0</th>\n",
              "      <td>0.92</td>\n",
              "      <td>11.2700</td>\n",
              "      <td>130</td>\n",
              "      <td>8.0500</td>\n",
              "      <td>1021.60</td>\n",
              "      <td>0</td>\n",
              "    </tr>\n",
              "    <tr>\n",
              "      <th>1</th>\n",
              "      <td>0.73</td>\n",
              "      <td>20.9300</td>\n",
              "      <td>330</td>\n",
              "      <td>16.1000</td>\n",
              "      <td>1017.00</td>\n",
              "      <td>1</td>\n",
              "    </tr>\n",
              "    <tr>\n",
              "      <th>2</th>\n",
              "      <td>0.97</td>\n",
              "      <td>5.9731</td>\n",
              "      <td>193</td>\n",
              "      <td>14.9086</td>\n",
              "      <td>1013.99</td>\n",
              "      <td>1</td>\n",
              "    </tr>\n",
              "    <tr>\n",
              "      <th>3</th>\n",
              "      <td>0.82</td>\n",
              "      <td>3.2200</td>\n",
              "      <td>300</td>\n",
              "      <td>16.1000</td>\n",
              "      <td>1031.59</td>\n",
              "      <td>1</td>\n",
              "    </tr>\n",
              "    <tr>\n",
              "      <th>4</th>\n",
              "      <td>0.60</td>\n",
              "      <td>10.8836</td>\n",
              "      <td>116</td>\n",
              "      <td>9.9820</td>\n",
              "      <td>1020.88</td>\n",
              "      <td>1</td>\n",
              "    </tr>\n",
              "  </tbody>\n",
              "</table>\n",
              "</div>"
            ],
            "text/plain": [
              "   Humidity  Wind_Speed_kmh  ...  Pressure_millibars  Rain\n",
              "0      0.92         11.2700  ...             1021.60     0\n",
              "1      0.73         20.9300  ...             1017.00     1\n",
              "2      0.97          5.9731  ...             1013.99     1\n",
              "3      0.82          3.2200  ...             1031.59     1\n",
              "4      0.60         10.8836  ...             1020.88     1\n",
              "\n",
              "[5 rows x 6 columns]"
            ]
          },
          "metadata": {
            "tags": []
          },
          "execution_count": 95
        }
      ]
    },
    {
      "cell_type": "code",
      "metadata": {
        "colab": {
          "base_uri": "https://localhost:8080/",
          "height": 195
        },
        "id": "iWp6nQEVk7ER",
        "outputId": "296737a8-b98d-4155-bd9e-3fee13d5de92"
      },
      "source": [
        "weather_df.head()    # see original data"
      ],
      "execution_count": null,
      "outputs": [
        {
          "output_type": "execute_result",
          "data": {
            "text/html": [
              "<div>\n",
              "<style scoped>\n",
              "    .dataframe tbody tr th:only-of-type {\n",
              "        vertical-align: middle;\n",
              "    }\n",
              "\n",
              "    .dataframe tbody tr th {\n",
              "        vertical-align: top;\n",
              "    }\n",
              "\n",
              "    .dataframe thead th {\n",
              "        text-align: right;\n",
              "    }\n",
              "</style>\n",
              "<table border=\"1\" class=\"dataframe\">\n",
              "  <thead>\n",
              "    <tr style=\"text-align: right;\">\n",
              "      <th></th>\n",
              "      <th>Description</th>\n",
              "      <th>Humidity</th>\n",
              "      <th>Wind_Speed_kmh</th>\n",
              "      <th>Wind_Bearing_degrees</th>\n",
              "      <th>Visibility_km</th>\n",
              "      <th>Pressure_millibars</th>\n",
              "      <th>Rain</th>\n",
              "      <th>Temperature</th>\n",
              "    </tr>\n",
              "  </thead>\n",
              "  <tbody>\n",
              "    <tr>\n",
              "      <th>0</th>\n",
              "      <td>Cold</td>\n",
              "      <td>0.92</td>\n",
              "      <td>11.2700</td>\n",
              "      <td>130</td>\n",
              "      <td>8.0500</td>\n",
              "      <td>1021.60</td>\n",
              "      <td>0</td>\n",
              "      <td>-0.555556</td>\n",
              "    </tr>\n",
              "    <tr>\n",
              "      <th>1</th>\n",
              "      <td>Warm</td>\n",
              "      <td>0.73</td>\n",
              "      <td>20.9300</td>\n",
              "      <td>330</td>\n",
              "      <td>16.1000</td>\n",
              "      <td>1017.00</td>\n",
              "      <td>1</td>\n",
              "      <td>21.111111</td>\n",
              "    </tr>\n",
              "    <tr>\n",
              "      <th>2</th>\n",
              "      <td>Normal</td>\n",
              "      <td>0.97</td>\n",
              "      <td>5.9731</td>\n",
              "      <td>193</td>\n",
              "      <td>14.9086</td>\n",
              "      <td>1013.99</td>\n",
              "      <td>1</td>\n",
              "      <td>16.600000</td>\n",
              "    </tr>\n",
              "    <tr>\n",
              "      <th>3</th>\n",
              "      <td>Cold</td>\n",
              "      <td>0.82</td>\n",
              "      <td>3.2200</td>\n",
              "      <td>300</td>\n",
              "      <td>16.1000</td>\n",
              "      <td>1031.59</td>\n",
              "      <td>1</td>\n",
              "      <td>1.600000</td>\n",
              "    </tr>\n",
              "    <tr>\n",
              "      <th>4</th>\n",
              "      <td>Cold</td>\n",
              "      <td>0.60</td>\n",
              "      <td>10.8836</td>\n",
              "      <td>116</td>\n",
              "      <td>9.9820</td>\n",
              "      <td>1020.88</td>\n",
              "      <td>1</td>\n",
              "      <td>2.194444</td>\n",
              "    </tr>\n",
              "  </tbody>\n",
              "</table>\n",
              "</div>"
            ],
            "text/plain": [
              "  Description  Humidity  Wind_Speed_kmh  ...  Pressure_millibars  Rain  Temperature\n",
              "0        Cold      0.92         11.2700  ...             1021.60     0    -0.555556\n",
              "1        Warm      0.73         20.9300  ...             1017.00     1    21.111111\n",
              "2      Normal      0.97          5.9731  ...             1013.99     1    16.600000\n",
              "3        Cold      0.82          3.2200  ...             1031.59     1     1.600000\n",
              "4        Cold      0.60         10.8836  ...             1020.88     1     2.194444\n",
              "\n",
              "[5 rows x 8 columns]"
            ]
          },
          "metadata": {
            "tags": []
          },
          "execution_count": 96
        }
      ]
    },
    {
      "cell_type": "code",
      "metadata": {
        "colab": {
          "base_uri": "https://localhost:8080/"
        },
        "id": "99nyUgcaBHzD",
        "outputId": "4b4a6dab-05ed-4b6a-d974-e1c70762859b"
      },
      "source": [
        "average= np_weather[:,7]                               # mean , median and sd of the array np_weather for temperature\n",
        "print ('Mean is:',np.mean(average))\n",
        "print('Median is:',np.median(average))\n",
        "print('SD:',np.std(average))\n"
      ],
      "execution_count": null,
      "outputs": [
        {
          "output_type": "stream",
          "text": [
            "Mean is: 11.857207777758882\n",
            "Median is: 11.56111111\n",
            "SD: 9.511767921792641\n"
          ],
          "name": "stdout"
        }
      ]
    },
    {
      "cell_type": "code",
      "metadata": {
        "colab": {
          "base_uri": "https://localhost:8080/"
        },
        "id": "Ry6w15HdbpYw",
        "outputId": "1bf87671-ac0d-46b1-b41a-2252517b8bbf"
      },
      "source": [
        "Standerd_dev= np_weather[:,7]\n",
        "print ('SD:',np.std(Standerd_dev))        # variance and standerd deviation of temprature\n",
        "print ('Variance',np.var(Standerd_dev))"
      ],
      "execution_count": null,
      "outputs": [
        {
          "output_type": "stream",
          "text": [
            "SD: 9.511767921792641\n",
            "Variance 90.4737289980435\n"
          ],
          "name": "stdout"
        }
      ]
    },
    {
      "cell_type": "code",
      "metadata": {
        "colab": {
          "base_uri": "https://localhost:8080/",
          "height": 284
        },
        "id": "5LYqEsoEmYNr",
        "outputId": "da1931ec-ef2c-4413-c525-4b03e6ea4de0"
      },
      "source": [
        "x.describe()"
      ],
      "execution_count": null,
      "outputs": [
        {
          "output_type": "execute_result",
          "data": {
            "text/html": [
              "<div>\n",
              "<style scoped>\n",
              "    .dataframe tbody tr th:only-of-type {\n",
              "        vertical-align: middle;\n",
              "    }\n",
              "\n",
              "    .dataframe tbody tr th {\n",
              "        vertical-align: top;\n",
              "    }\n",
              "\n",
              "    .dataframe thead th {\n",
              "        text-align: right;\n",
              "    }\n",
              "</style>\n",
              "<table border=\"1\" class=\"dataframe\">\n",
              "  <thead>\n",
              "    <tr style=\"text-align: right;\">\n",
              "      <th></th>\n",
              "      <th>Humidity</th>\n",
              "      <th>Wind_Speed_kmh</th>\n",
              "      <th>Wind_Bearing_degrees</th>\n",
              "      <th>Visibility_km</th>\n",
              "      <th>Pressure_millibars</th>\n",
              "      <th>Rain</th>\n",
              "    </tr>\n",
              "  </thead>\n",
              "  <tbody>\n",
              "    <tr>\n",
              "      <th>count</th>\n",
              "      <td>10000.000000</td>\n",
              "      <td>10000.000000</td>\n",
              "      <td>10000.000000</td>\n",
              "      <td>10000.000000</td>\n",
              "      <td>10000.000000</td>\n",
              "      <td>10000.000000</td>\n",
              "    </tr>\n",
              "    <tr>\n",
              "      <th>mean</th>\n",
              "      <td>0.735272</td>\n",
              "      <td>10.813565</td>\n",
              "      <td>185.979700</td>\n",
              "      <td>10.372964</td>\n",
              "      <td>1004.896421</td>\n",
              "      <td>0.891200</td>\n",
              "    </tr>\n",
              "    <tr>\n",
              "      <th>std</th>\n",
              "      <td>0.195498</td>\n",
              "      <td>6.972569</td>\n",
              "      <td>107.469909</td>\n",
              "      <td>4.178680</td>\n",
              "      <td>109.617120</td>\n",
              "      <td>0.311404</td>\n",
              "    </tr>\n",
              "    <tr>\n",
              "      <th>min</th>\n",
              "      <td>0.000000</td>\n",
              "      <td>0.000000</td>\n",
              "      <td>0.000000</td>\n",
              "      <td>0.000000</td>\n",
              "      <td>0.000000</td>\n",
              "      <td>0.000000</td>\n",
              "    </tr>\n",
              "    <tr>\n",
              "      <th>25%</th>\n",
              "      <td>0.600000</td>\n",
              "      <td>5.747700</td>\n",
              "      <td>112.000000</td>\n",
              "      <td>8.287475</td>\n",
              "      <td>1011.890000</td>\n",
              "      <td>1.000000</td>\n",
              "    </tr>\n",
              "    <tr>\n",
              "      <th>50%</th>\n",
              "      <td>0.780000</td>\n",
              "      <td>9.933700</td>\n",
              "      <td>179.000000</td>\n",
              "      <td>10.046400</td>\n",
              "      <td>1016.500000</td>\n",
              "      <td>1.000000</td>\n",
              "    </tr>\n",
              "    <tr>\n",
              "      <th>75%</th>\n",
              "      <td>0.900000</td>\n",
              "      <td>14.103600</td>\n",
              "      <td>290.000000</td>\n",
              "      <td>14.876400</td>\n",
              "      <td>1021.110000</td>\n",
              "      <td>1.000000</td>\n",
              "    </tr>\n",
              "    <tr>\n",
              "      <th>max</th>\n",
              "      <td>1.000000</td>\n",
              "      <td>53.242700</td>\n",
              "      <td>359.000000</td>\n",
              "      <td>16.100000</td>\n",
              "      <td>1045.380000</td>\n",
              "      <td>1.000000</td>\n",
              "    </tr>\n",
              "  </tbody>\n",
              "</table>\n",
              "</div>"
            ],
            "text/plain": [
              "           Humidity  Wind_Speed_kmh  ...  Pressure_millibars          Rain\n",
              "count  10000.000000    10000.000000  ...        10000.000000  10000.000000\n",
              "mean       0.735272       10.813565  ...         1004.896421      0.891200\n",
              "std        0.195498        6.972569  ...          109.617120      0.311404\n",
              "min        0.000000        0.000000  ...            0.000000      0.000000\n",
              "25%        0.600000        5.747700  ...         1011.890000      1.000000\n",
              "50%        0.780000        9.933700  ...         1016.500000      1.000000\n",
              "75%        0.900000       14.103600  ...         1021.110000      1.000000\n",
              "max        1.000000       53.242700  ...         1045.380000      1.000000\n",
              "\n",
              "[8 rows x 6 columns]"
            ]
          },
          "metadata": {
            "tags": []
          },
          "execution_count": 99
        }
      ]
    },
    {
      "cell_type": "code",
      "metadata": {
        "colab": {
          "base_uri": "https://localhost:8080/",
          "height": 225
        },
        "id": "LGnlZmq7dpZ9",
        "outputId": "804cdd77-a6f3-431c-c8bf-17af2e5da914"
      },
      "source": [
        "x.cov()               # coveriance of x meaning droped values"
      ],
      "execution_count": null,
      "outputs": [
        {
          "output_type": "execute_result",
          "data": {
            "text/html": [
              "<div>\n",
              "<style scoped>\n",
              "    .dataframe tbody tr th:only-of-type {\n",
              "        vertical-align: middle;\n",
              "    }\n",
              "\n",
              "    .dataframe tbody tr th {\n",
              "        vertical-align: top;\n",
              "    }\n",
              "\n",
              "    .dataframe thead th {\n",
              "        text-align: right;\n",
              "    }\n",
              "</style>\n",
              "<table border=\"1\" class=\"dataframe\">\n",
              "  <thead>\n",
              "    <tr style=\"text-align: right;\">\n",
              "      <th></th>\n",
              "      <th>Humidity</th>\n",
              "      <th>Wind_Speed_kmh</th>\n",
              "      <th>Wind_Bearing_degrees</th>\n",
              "      <th>Visibility_km</th>\n",
              "      <th>Pressure_millibars</th>\n",
              "      <th>Rain</th>\n",
              "    </tr>\n",
              "  </thead>\n",
              "  <tbody>\n",
              "    <tr>\n",
              "      <th>Humidity</th>\n",
              "      <td>0.038219</td>\n",
              "      <td>-0.303920</td>\n",
              "      <td>-0.158033</td>\n",
              "      <td>-0.306898</td>\n",
              "      <td>-0.240620</td>\n",
              "      <td>-0.013705</td>\n",
              "    </tr>\n",
              "    <tr>\n",
              "      <th>Wind_Speed_kmh</th>\n",
              "      <td>-0.303920</td>\n",
              "      <td>48.616712</td>\n",
              "      <td>81.135683</td>\n",
              "      <td>2.928924</td>\n",
              "      <td>-39.030875</td>\n",
              "      <td>0.146655</td>\n",
              "    </tr>\n",
              "    <tr>\n",
              "      <th>Wind_Bearing_degrees</th>\n",
              "      <td>-0.158033</td>\n",
              "      <td>81.135683</td>\n",
              "      <td>11549.781266</td>\n",
              "      <td>23.388342</td>\n",
              "      <td>-65.931513</td>\n",
              "      <td>1.625254</td>\n",
              "    </tr>\n",
              "    <tr>\n",
              "      <th>Visibility_km</th>\n",
              "      <td>-0.306898</td>\n",
              "      <td>2.928924</td>\n",
              "      <td>23.388342</td>\n",
              "      <td>17.461364</td>\n",
              "      <td>30.535222</td>\n",
              "      <td>0.393466</td>\n",
              "    </tr>\n",
              "    <tr>\n",
              "      <th>Pressure_millibars</th>\n",
              "      <td>-0.240620</td>\n",
              "      <td>-39.030875</td>\n",
              "      <td>-65.931513</td>\n",
              "      <td>30.535222</td>\n",
              "      <td>12015.912993</td>\n",
              "      <td>0.141548</td>\n",
              "    </tr>\n",
              "    <tr>\n",
              "      <th>Rain</th>\n",
              "      <td>-0.013705</td>\n",
              "      <td>0.146655</td>\n",
              "      <td>1.625254</td>\n",
              "      <td>0.393466</td>\n",
              "      <td>0.141548</td>\n",
              "      <td>0.096972</td>\n",
              "    </tr>\n",
              "  </tbody>\n",
              "</table>\n",
              "</div>"
            ],
            "text/plain": [
              "                      Humidity  Wind_Speed_kmh  ...  Pressure_millibars      Rain\n",
              "Humidity              0.038219       -0.303920  ...           -0.240620 -0.013705\n",
              "Wind_Speed_kmh       -0.303920       48.616712  ...          -39.030875  0.146655\n",
              "Wind_Bearing_degrees -0.158033       81.135683  ...          -65.931513  1.625254\n",
              "Visibility_km        -0.306898        2.928924  ...           30.535222  0.393466\n",
              "Pressure_millibars   -0.240620      -39.030875  ...        12015.912993  0.141548\n",
              "Rain                 -0.013705        0.146655  ...            0.141548  0.096972\n",
              "\n",
              "[6 rows x 6 columns]"
            ]
          },
          "metadata": {
            "tags": []
          },
          "execution_count": 100
        }
      ]
    },
    {
      "cell_type": "code",
      "metadata": {
        "colab": {
          "base_uri": "https://localhost:8080/",
          "height": 225
        },
        "id": "vkO73APnhiIT",
        "outputId": "85f0b664-e412-4542-c6ae-e33f615d1814"
      },
      "source": [
        "x.corr(method='pearson')                # corrilation of the x variable data"
      ],
      "execution_count": null,
      "outputs": [
        {
          "output_type": "execute_result",
          "data": {
            "text/html": [
              "<div>\n",
              "<style scoped>\n",
              "    .dataframe tbody tr th:only-of-type {\n",
              "        vertical-align: middle;\n",
              "    }\n",
              "\n",
              "    .dataframe tbody tr th {\n",
              "        vertical-align: top;\n",
              "    }\n",
              "\n",
              "    .dataframe thead th {\n",
              "        text-align: right;\n",
              "    }\n",
              "</style>\n",
              "<table border=\"1\" class=\"dataframe\">\n",
              "  <thead>\n",
              "    <tr style=\"text-align: right;\">\n",
              "      <th></th>\n",
              "      <th>Humidity</th>\n",
              "      <th>Wind_Speed_kmh</th>\n",
              "      <th>Wind_Bearing_degrees</th>\n",
              "      <th>Visibility_km</th>\n",
              "      <th>Pressure_millibars</th>\n",
              "      <th>Rain</th>\n",
              "    </tr>\n",
              "  </thead>\n",
              "  <tbody>\n",
              "    <tr>\n",
              "      <th>Humidity</th>\n",
              "      <td>1.000000</td>\n",
              "      <td>-0.222959</td>\n",
              "      <td>-0.007522</td>\n",
              "      <td>-0.375676</td>\n",
              "      <td>-0.011228</td>\n",
              "      <td>-0.225116</td>\n",
              "    </tr>\n",
              "    <tr>\n",
              "      <th>Wind_Speed_kmh</th>\n",
              "      <td>-0.222959</td>\n",
              "      <td>1.000000</td>\n",
              "      <td>0.108276</td>\n",
              "      <td>0.100525</td>\n",
              "      <td>-0.051067</td>\n",
              "      <td>0.067543</td>\n",
              "    </tr>\n",
              "    <tr>\n",
              "      <th>Wind_Bearing_degrees</th>\n",
              "      <td>-0.007522</td>\n",
              "      <td>0.108276</td>\n",
              "      <td>1.000000</td>\n",
              "      <td>0.052080</td>\n",
              "      <td>-0.005597</td>\n",
              "      <td>0.048564</td>\n",
              "    </tr>\n",
              "    <tr>\n",
              "      <th>Visibility_km</th>\n",
              "      <td>-0.375676</td>\n",
              "      <td>0.100525</td>\n",
              "      <td>0.052080</td>\n",
              "      <td>1.000000</td>\n",
              "      <td>0.066663</td>\n",
              "      <td>0.302374</td>\n",
              "    </tr>\n",
              "    <tr>\n",
              "      <th>Pressure_millibars</th>\n",
              "      <td>-0.011228</td>\n",
              "      <td>-0.051067</td>\n",
              "      <td>-0.005597</td>\n",
              "      <td>0.066663</td>\n",
              "      <td>1.000000</td>\n",
              "      <td>0.004147</td>\n",
              "    </tr>\n",
              "    <tr>\n",
              "      <th>Rain</th>\n",
              "      <td>-0.225116</td>\n",
              "      <td>0.067543</td>\n",
              "      <td>0.048564</td>\n",
              "      <td>0.302374</td>\n",
              "      <td>0.004147</td>\n",
              "      <td>1.000000</td>\n",
              "    </tr>\n",
              "  </tbody>\n",
              "</table>\n",
              "</div>"
            ],
            "text/plain": [
              "                      Humidity  Wind_Speed_kmh  ...  Pressure_millibars      Rain\n",
              "Humidity              1.000000       -0.222959  ...           -0.011228 -0.225116\n",
              "Wind_Speed_kmh       -0.222959        1.000000  ...           -0.051067  0.067543\n",
              "Wind_Bearing_degrees -0.007522        0.108276  ...           -0.005597  0.048564\n",
              "Visibility_km        -0.375676        0.100525  ...            0.066663  0.302374\n",
              "Pressure_millibars   -0.011228       -0.051067  ...            1.000000  0.004147\n",
              "Rain                 -0.225116        0.067543  ...            0.004147  1.000000\n",
              "\n",
              "[6 rows x 6 columns]"
            ]
          },
          "metadata": {
            "tags": []
          },
          "execution_count": 101
        }
      ]
    },
    {
      "cell_type": "code",
      "metadata": {
        "colab": {
          "base_uri": "https://localhost:8080/"
        },
        "id": "c0Kh-0x2WHZl",
        "outputId": "15d678e5-08d2-4551-e31b-67fa5a3c207b"
      },
      "source": [
        "type (True)"
      ],
      "execution_count": null,
      "outputs": [
        {
          "output_type": "execute_result",
          "data": {
            "text/plain": [
              "bool"
            ]
          },
          "metadata": {
            "tags": []
          },
          "execution_count": 102
        }
      ]
    },
    {
      "cell_type": "code",
      "metadata": {
        "colab": {
          "base_uri": "https://localhost:8080/",
          "height": 195
        },
        "id": "4OTL3siCWf0A",
        "outputId": "448f31c4-c5b5-4f1c-972a-fc41d375232d"
      },
      "source": [
        "x.tail()"
      ],
      "execution_count": null,
      "outputs": [
        {
          "output_type": "execute_result",
          "data": {
            "text/html": [
              "<div>\n",
              "<style scoped>\n",
              "    .dataframe tbody tr th:only-of-type {\n",
              "        vertical-align: middle;\n",
              "    }\n",
              "\n",
              "    .dataframe tbody tr th {\n",
              "        vertical-align: top;\n",
              "    }\n",
              "\n",
              "    .dataframe thead th {\n",
              "        text-align: right;\n",
              "    }\n",
              "</style>\n",
              "<table border=\"1\" class=\"dataframe\">\n",
              "  <thead>\n",
              "    <tr style=\"text-align: right;\">\n",
              "      <th></th>\n",
              "      <th>Humidity</th>\n",
              "      <th>Wind_Speed_kmh</th>\n",
              "      <th>Wind_Bearing_degrees</th>\n",
              "      <th>Visibility_km</th>\n",
              "      <th>Pressure_millibars</th>\n",
              "      <th>Rain</th>\n",
              "    </tr>\n",
              "  </thead>\n",
              "  <tbody>\n",
              "    <tr>\n",
              "      <th>9995</th>\n",
              "      <td>0.95</td>\n",
              "      <td>10.2396</td>\n",
              "      <td>20</td>\n",
              "      <td>4.0089</td>\n",
              "      <td>1007.41</td>\n",
              "      <td>1</td>\n",
              "    </tr>\n",
              "    <tr>\n",
              "      <th>9996</th>\n",
              "      <td>0.64</td>\n",
              "      <td>11.0446</td>\n",
              "      <td>80</td>\n",
              "      <td>9.9820</td>\n",
              "      <td>1031.33</td>\n",
              "      <td>1</td>\n",
              "    </tr>\n",
              "    <tr>\n",
              "      <th>9997</th>\n",
              "      <td>0.93</td>\n",
              "      <td>11.0446</td>\n",
              "      <td>269</td>\n",
              "      <td>14.9086</td>\n",
              "      <td>1014.21</td>\n",
              "      <td>1</td>\n",
              "    </tr>\n",
              "    <tr>\n",
              "      <th>9998</th>\n",
              "      <td>0.78</td>\n",
              "      <td>8.1788</td>\n",
              "      <td>231</td>\n",
              "      <td>7.8246</td>\n",
              "      <td>1005.02</td>\n",
              "      <td>1</td>\n",
              "    </tr>\n",
              "    <tr>\n",
              "      <th>9999</th>\n",
              "      <td>0.79</td>\n",
              "      <td>14.2485</td>\n",
              "      <td>131</td>\n",
              "      <td>10.2557</td>\n",
              "      <td>1010.14</td>\n",
              "      <td>1</td>\n",
              "    </tr>\n",
              "  </tbody>\n",
              "</table>\n",
              "</div>"
            ],
            "text/plain": [
              "      Humidity  Wind_Speed_kmh  ...  Pressure_millibars  Rain\n",
              "9995      0.95         10.2396  ...             1007.41     1\n",
              "9996      0.64         11.0446  ...             1031.33     1\n",
              "9997      0.93         11.0446  ...             1014.21     1\n",
              "9998      0.78          8.1788  ...             1005.02     1\n",
              "9999      0.79         14.2485  ...             1010.14     1\n",
              "\n",
              "[5 rows x 6 columns]"
            ]
          },
          "metadata": {
            "tags": []
          },
          "execution_count": 103
        }
      ]
    },
    {
      "cell_type": "code",
      "metadata": {
        "colab": {
          "base_uri": "https://localhost:8080/",
          "height": 195
        },
        "id": "QeqzkSK_nQTF",
        "outputId": "0edcde52-7483-44ed-ef01-ef2c9b5ceea3"
      },
      "source": [
        "weather_df.head()"
      ],
      "execution_count": null,
      "outputs": [
        {
          "output_type": "execute_result",
          "data": {
            "text/html": [
              "<div>\n",
              "<style scoped>\n",
              "    .dataframe tbody tr th:only-of-type {\n",
              "        vertical-align: middle;\n",
              "    }\n",
              "\n",
              "    .dataframe tbody tr th {\n",
              "        vertical-align: top;\n",
              "    }\n",
              "\n",
              "    .dataframe thead th {\n",
              "        text-align: right;\n",
              "    }\n",
              "</style>\n",
              "<table border=\"1\" class=\"dataframe\">\n",
              "  <thead>\n",
              "    <tr style=\"text-align: right;\">\n",
              "      <th></th>\n",
              "      <th>Description</th>\n",
              "      <th>Humidity</th>\n",
              "      <th>Wind_Speed_kmh</th>\n",
              "      <th>Wind_Bearing_degrees</th>\n",
              "      <th>Visibility_km</th>\n",
              "      <th>Pressure_millibars</th>\n",
              "      <th>Rain</th>\n",
              "      <th>Temperature</th>\n",
              "    </tr>\n",
              "  </thead>\n",
              "  <tbody>\n",
              "    <tr>\n",
              "      <th>0</th>\n",
              "      <td>Cold</td>\n",
              "      <td>0.92</td>\n",
              "      <td>11.2700</td>\n",
              "      <td>130</td>\n",
              "      <td>8.0500</td>\n",
              "      <td>1021.60</td>\n",
              "      <td>0</td>\n",
              "      <td>-0.555556</td>\n",
              "    </tr>\n",
              "    <tr>\n",
              "      <th>1</th>\n",
              "      <td>Warm</td>\n",
              "      <td>0.73</td>\n",
              "      <td>20.9300</td>\n",
              "      <td>330</td>\n",
              "      <td>16.1000</td>\n",
              "      <td>1017.00</td>\n",
              "      <td>1</td>\n",
              "      <td>21.111111</td>\n",
              "    </tr>\n",
              "    <tr>\n",
              "      <th>2</th>\n",
              "      <td>Normal</td>\n",
              "      <td>0.97</td>\n",
              "      <td>5.9731</td>\n",
              "      <td>193</td>\n",
              "      <td>14.9086</td>\n",
              "      <td>1013.99</td>\n",
              "      <td>1</td>\n",
              "      <td>16.600000</td>\n",
              "    </tr>\n",
              "    <tr>\n",
              "      <th>3</th>\n",
              "      <td>Cold</td>\n",
              "      <td>0.82</td>\n",
              "      <td>3.2200</td>\n",
              "      <td>300</td>\n",
              "      <td>16.1000</td>\n",
              "      <td>1031.59</td>\n",
              "      <td>1</td>\n",
              "      <td>1.600000</td>\n",
              "    </tr>\n",
              "    <tr>\n",
              "      <th>4</th>\n",
              "      <td>Cold</td>\n",
              "      <td>0.60</td>\n",
              "      <td>10.8836</td>\n",
              "      <td>116</td>\n",
              "      <td>9.9820</td>\n",
              "      <td>1020.88</td>\n",
              "      <td>1</td>\n",
              "      <td>2.194444</td>\n",
              "    </tr>\n",
              "  </tbody>\n",
              "</table>\n",
              "</div>"
            ],
            "text/plain": [
              "  Description  Humidity  Wind_Speed_kmh  ...  Pressure_millibars  Rain  Temperature\n",
              "0        Cold      0.92         11.2700  ...             1021.60     0    -0.555556\n",
              "1        Warm      0.73         20.9300  ...             1017.00     1    21.111111\n",
              "2      Normal      0.97          5.9731  ...             1013.99     1    16.600000\n",
              "3        Cold      0.82          3.2200  ...             1031.59     1     1.600000\n",
              "4        Cold      0.60         10.8836  ...             1020.88     1     2.194444\n",
              "\n",
              "[5 rows x 8 columns]"
            ]
          },
          "metadata": {
            "tags": []
          },
          "execution_count": 104
        }
      ]
    },
    {
      "cell_type": "code",
      "metadata": {
        "colab": {
          "base_uri": "https://localhost:8080/"
        },
        "id": "bgP5ep57mS6c",
        "outputId": "0b8471c3-4b57-454e-95aa-3ae79cb95766"
      },
      "source": [
        "y= weather_df['Temperature']\n",
        "y"
      ],
      "execution_count": null,
      "outputs": [
        {
          "output_type": "execute_result",
          "data": {
            "text/plain": [
              "0       -0.555556\n",
              "1       21.111111\n",
              "2       16.600000\n",
              "3        1.600000\n",
              "4        2.194444\n",
              "          ...    \n",
              "9995    10.022222\n",
              "9996     8.633333\n",
              "9997     5.977778\n",
              "9998     9.788889\n",
              "9999    11.138889\n",
              "Name: Temperature, Length: 10000, dtype: float64"
            ]
          },
          "metadata": {
            "tags": []
          },
          "execution_count": 105
        }
      ]
    },
    {
      "cell_type": "code",
      "metadata": {
        "colab": {
          "base_uri": "https://localhost:8080/",
          "height": 195
        },
        "id": "EPDg5h4cqX1h",
        "outputId": "da6c0bc4-e4fb-44d6-eca5-db21444adee8"
      },
      "source": [
        "x.head()"
      ],
      "execution_count": null,
      "outputs": [
        {
          "output_type": "execute_result",
          "data": {
            "text/html": [
              "<div>\n",
              "<style scoped>\n",
              "    .dataframe tbody tr th:only-of-type {\n",
              "        vertical-align: middle;\n",
              "    }\n",
              "\n",
              "    .dataframe tbody tr th {\n",
              "        vertical-align: top;\n",
              "    }\n",
              "\n",
              "    .dataframe thead th {\n",
              "        text-align: right;\n",
              "    }\n",
              "</style>\n",
              "<table border=\"1\" class=\"dataframe\">\n",
              "  <thead>\n",
              "    <tr style=\"text-align: right;\">\n",
              "      <th></th>\n",
              "      <th>Humidity</th>\n",
              "      <th>Wind_Speed_kmh</th>\n",
              "      <th>Wind_Bearing_degrees</th>\n",
              "      <th>Visibility_km</th>\n",
              "      <th>Pressure_millibars</th>\n",
              "      <th>Rain</th>\n",
              "    </tr>\n",
              "  </thead>\n",
              "  <tbody>\n",
              "    <tr>\n",
              "      <th>0</th>\n",
              "      <td>0.92</td>\n",
              "      <td>11.2700</td>\n",
              "      <td>130</td>\n",
              "      <td>8.0500</td>\n",
              "      <td>1021.60</td>\n",
              "      <td>0</td>\n",
              "    </tr>\n",
              "    <tr>\n",
              "      <th>1</th>\n",
              "      <td>0.73</td>\n",
              "      <td>20.9300</td>\n",
              "      <td>330</td>\n",
              "      <td>16.1000</td>\n",
              "      <td>1017.00</td>\n",
              "      <td>1</td>\n",
              "    </tr>\n",
              "    <tr>\n",
              "      <th>2</th>\n",
              "      <td>0.97</td>\n",
              "      <td>5.9731</td>\n",
              "      <td>193</td>\n",
              "      <td>14.9086</td>\n",
              "      <td>1013.99</td>\n",
              "      <td>1</td>\n",
              "    </tr>\n",
              "    <tr>\n",
              "      <th>3</th>\n",
              "      <td>0.82</td>\n",
              "      <td>3.2200</td>\n",
              "      <td>300</td>\n",
              "      <td>16.1000</td>\n",
              "      <td>1031.59</td>\n",
              "      <td>1</td>\n",
              "    </tr>\n",
              "    <tr>\n",
              "      <th>4</th>\n",
              "      <td>0.60</td>\n",
              "      <td>10.8836</td>\n",
              "      <td>116</td>\n",
              "      <td>9.9820</td>\n",
              "      <td>1020.88</td>\n",
              "      <td>1</td>\n",
              "    </tr>\n",
              "  </tbody>\n",
              "</table>\n",
              "</div>"
            ],
            "text/plain": [
              "   Humidity  Wind_Speed_kmh  ...  Pressure_millibars  Rain\n",
              "0      0.92         11.2700  ...             1021.60     0\n",
              "1      0.73         20.9300  ...             1017.00     1\n",
              "2      0.97          5.9731  ...             1013.99     1\n",
              "3      0.82          3.2200  ...             1031.59     1\n",
              "4      0.60         10.8836  ...             1020.88     1\n",
              "\n",
              "[5 rows x 6 columns]"
            ]
          },
          "metadata": {
            "tags": []
          },
          "execution_count": 106
        }
      ]
    },
    {
      "cell_type": "code",
      "metadata": {
        "colab": {
          "base_uri": "https://localhost:8080/"
        },
        "id": "uKhrjV7GoXjq",
        "outputId": "752de722-15ed-4e04-9a52-127fccf93ac2"
      },
      "source": [
        "# predict salarys 1st model\n",
        "from sklearn.model_selection import train_test_split\n",
        "x_train,x_test,y_train,_y_test=train_test_split(x,y,test_size=0.2,random_state=0) # test_size is 80/20 split\n",
        "print ('shape of y_train:',y_train.shape)\n",
        "print ('shape of x_train:',x_train.shape)\n",
        "from sklearn.linear_model import LinearRegression\n",
        "model = LinearRegression()\n",
        "# fit the model with the variables of your choice\n",
        "model.fit(x_train[['Humidity','Wind_Speed_kmh','Wind_Bearing_degrees','Visibility_km','Pressure_millibars']],y_train)  # only use numeric values inc;ude all but noot rain\n",
        "model.score(x_train[['Humidity','Wind_Speed_kmh','Wind_Bearing_degrees','Visibility_km','Pressure_millibars']],y_train) # see r_square value\n"
      ],
      "execution_count": null,
      "outputs": [
        {
          "output_type": "stream",
          "text": [
            "shape of y_train: (8000,)\n",
            "shape of x_train: (8000, 6)\n"
          ],
          "name": "stdout"
        },
        {
          "output_type": "execute_result",
          "data": {
            "text/plain": [
              "0.44235217431898916"
            ]
          },
          "metadata": {
            "tags": []
          },
          "execution_count": 107
        }
      ]
    },
    {
      "cell_type": "code",
      "metadata": {
        "colab": {
          "base_uri": "https://localhost:8080/"
        },
        "id": "uHol96RRsHAh",
        "outputId": "3fc0d408-0cf4-4158-ccd2-f00191a648be"
      },
      "source": [
        "# predict salarys 2st model add rain and 2ns model is better\n",
        "from sklearn.model_selection import train_test_split\n",
        "x_train,x_test,y_train,_y_test=train_test_split(x,y,test_size=0.2,random_state=0) # test_size is 80/20 split\n",
        "print ('shape of y_train:',y_train.shape)\n",
        "print ('shape of x_train:',x_train.shape)\n",
        "from sklearn.linear_model import LinearRegression\n",
        "model = LinearRegression()\n",
        "# fit the model with the variables of your choice\n",
        "model.fit(x_train[['Humidity','Wind_Speed_kmh','Wind_Bearing_degrees','Visibility_km','Pressure_millibars','Rain']],y_train)  # only use numeric values add rain as well\n",
        "model.score(x_train[['Humidity','Wind_Speed_kmh','Wind_Bearing_degrees','Visibility_km','Pressure_millibars','Rain']],y_train)"
      ],
      "execution_count": null,
      "outputs": [
        {
          "output_type": "stream",
          "text": [
            "shape of y_train: (8000,)\n",
            "shape of x_train: (8000, 6)\n"
          ],
          "name": "stdout"
        },
        {
          "output_type": "execute_result",
          "data": {
            "text/plain": [
              "0.6022304340490375"
            ]
          },
          "metadata": {
            "tags": []
          },
          "execution_count": 108
        }
      ]
    },
    {
      "cell_type": "code",
      "metadata": {
        "colab": {
          "base_uri": "https://localhost:8080/"
        },
        "id": "dH8Y6RMc3yeu",
        "outputId": "c2033511-865e-4ea2-8c20-0a224d5602e0"
      },
      "source": [
        "#Predicts whether it will rain or not. 1 means yes, 0 means no.\n",
        "import pandas as pd\n",
        "from sklearn.linear_model import LogisticRegression\n",
        "from sklearn.model_selection import train_test_split\n",
        "from sklearn import metrics\n",
        "from sklearn.metrics import confusion_matrix\n",
        "weather_data = pd.read_csv(\"https://raw.githubusercontent.com/datawizardsai/Data-Science/master/weatherLogistic.csv\")\n",
        "x = weather_data.drop('Rain', axis=1) #features\n",
        "y = weather_data['Rain'] #target\n",
        "x_train, x_test, y_train, y_test = train_test_split(x, y, test_size=0.2, random_state=0)\n",
        "model = LogisticRegression()\n",
        "model.fit(x_train, y_train)     # can put variable afterX_train[['']] to input different variable\n",
        "print('Acurate score is:')\n",
        "print(model.score(x_test,y_test))\n",
        "\n",
        "y_predicted = model.predict(x_test)                   # used for confusion matric to predict the values\n",
        "cm = confusion_matrix(y_test, y_predicted)                \n",
        "cm\n",
        " # 233 true positive times will rain and it did, 1754 true negative times will not rain and it didnt, 3 false positive times will rain but didnt, 10 false negative times will not rain but it did"
      ],
      "execution_count": null,
      "outputs": [
        {
          "output_type": "stream",
          "text": [
            "Acurate score is:\n",
            "0.9935\n"
          ],
          "name": "stdout"
        },
        {
          "output_type": "stream",
          "text": [
            "/usr/local/lib/python3.7/dist-packages/sklearn/linear_model/_logistic.py:940: ConvergenceWarning: lbfgs failed to converge (status=1):\n",
            "STOP: TOTAL NO. of ITERATIONS REACHED LIMIT.\n",
            "\n",
            "Increase the number of iterations (max_iter) or scale the data as shown in:\n",
            "    https://scikit-learn.org/stable/modules/preprocessing.html\n",
            "Please also refer to the documentation for alternative solver options:\n",
            "    https://scikit-learn.org/stable/modules/linear_model.html#logistic-regression\n",
            "  extra_warning_msg=_LOGISTIC_SOLVER_CONVERGENCE_MSG)\n"
          ],
          "name": "stderr"
        },
        {
          "output_type": "execute_result",
          "data": {
            "text/plain": [
              "array([[ 233,    3],\n",
              "       [  10, 1754]])"
            ]
          },
          "metadata": {
            "tags": []
          },
          "execution_count": 115
        }
      ]
    },
    {
      "cell_type": "code",
      "metadata": {
        "colab": {
          "base_uri": "https://localhost:8080/"
        },
        "id": "aGnZjFdJ-4fD",
        "outputId": "421e12b1-908d-4ace-fc0d-6292b859439e"
      },
      "source": [
        "from sklearn import tree\n",
        "from sklearn.preprocessing import StandardScaler\n",
        "from sklearn.model_selection import train_test_split\n",
        "from sklearn.neighbors import KNeighborsClassifier\n",
        "weather_data = pd.read_csv(\"https://raw.githubusercontent.com/datawizardsai/Data-Science/master/weatherLogistic.csv\")\n",
        "X = weather_data.drop('Rain',axis=1)\n",
        "y = weather_data['Rain']\n",
        "#Train test Split\n",
        "X_train, X_test, y_train, y_test = train_test_split(X, y, test_size=0.3, random_state=0)\n",
        "#Creating\n",
        "#model = tree.DecisionTreeClassifier()     # predict decision tree\n",
        "#model.fit(X_train, y_train)\n",
        "classifier = KNeighborsClassifier(n_neighbors=5)   # predict KNN                # put in odd numbers for better result\n",
        "classifier.fit(X_train, y_train)   \n",
        "#Scoring\n",
        "y_predicted = model.predict(X_test)\n",
        "print ('Accurecy score is:')\n",
        "print (model.score(X_test,y_test))\n",
        "cm = confusion_matrix(y_test, y_predicted)\n",
        "cm"
      ],
      "execution_count": null,
      "outputs": [
        {
          "output_type": "stream",
          "text": [
            "Accurecy score is:\n",
            "0.9606666666666667\n"
          ],
          "name": "stdout"
        },
        {
          "output_type": "execute_result",
          "data": {
            "text/plain": [
              "array([[ 297,   28],\n",
              "       [  90, 2585]])"
            ]
          },
          "metadata": {
            "tags": []
          },
          "execution_count": 132
        }
      ]
    },
    {
      "cell_type": "code",
      "metadata": {
        "colab": {
          "base_uri": "https://localhost:8080/",
          "height": 298
        },
        "id": "JrSgkOWqGhAN",
        "outputId": "757f5222-9b9b-4653-d733-68096953c2b8"
      },
      "source": [
        "import seaborn as sns\n",
        "sns.histplot(weather_df['Temperature'], bins=20,kde=False)\n",
        "\n",
        "#sns.histplot(weather_df['Temperature'], bins=20)\n"
      ],
      "execution_count": null,
      "outputs": [
        {
          "output_type": "execute_result",
          "data": {
            "text/plain": [
              "<matplotlib.axes._subplots.AxesSubplot at 0x7f371ec4dd50>"
            ]
          },
          "metadata": {
            "tags": []
          },
          "execution_count": 7
        },
        {
          "output_type": "display_data",
          "data": {
            "image/png": "[encoded data removed]",
            "text/plain": [
              "<Figure size 432x288 with 1 Axes>"
            ]
          },
          "metadata": {
            "tags": [],
            "needs_background": "light"
          }
        }
      ]
    },
    {
      "cell_type": "code",
      "metadata": {
        "colab": {
          "base_uri": "https://localhost:8080/",
          "height": 198
        },
        "id": "WxD5EsuU3Q6G",
        "outputId": "9a49f180-f44e-459f-8f8f-f1983411728a"
      },
      "source": [
        "weather_df.head()"
      ],
      "execution_count": null,
      "outputs": [
        {
          "output_type": "execute_result",
          "data": {
            "text/html": [
              "<div>\n",
              "<style scoped>\n",
              "    .dataframe tbody tr th:only-of-type {\n",
              "        vertical-align: middle;\n",
              "    }\n",
              "\n",
              "    .dataframe tbody tr th {\n",
              "        vertical-align: top;\n",
              "    }\n",
              "\n",
              "    .dataframe thead th {\n",
              "        text-align: right;\n",
              "    }\n",
              "</style>\n",
              "<table border=\"1\" class=\"dataframe\">\n",
              "  <thead>\n",
              "    <tr style=\"text-align: right;\">\n",
              "      <th></th>\n",
              "      <th>Description</th>\n",
              "      <th>Humidity</th>\n",
              "      <th>Wind_Speed_kmh</th>\n",
              "      <th>Wind_Bearing_degrees</th>\n",
              "      <th>Visibility_km</th>\n",
              "      <th>Pressure_millibars</th>\n",
              "      <th>Rain</th>\n",
              "      <th>Temperature</th>\n",
              "    </tr>\n",
              "  </thead>\n",
              "  <tbody>\n",
              "    <tr>\n",
              "      <th>0</th>\n",
              "      <td>Cold</td>\n",
              "      <td>0.92</td>\n",
              "      <td>11.2700</td>\n",
              "      <td>130</td>\n",
              "      <td>8.0500</td>\n",
              "      <td>1021.60</td>\n",
              "      <td>0</td>\n",
              "      <td>-0.555556</td>\n",
              "    </tr>\n",
              "    <tr>\n",
              "      <th>1</th>\n",
              "      <td>Warm</td>\n",
              "      <td>0.73</td>\n",
              "      <td>20.9300</td>\n",
              "      <td>330</td>\n",
              "      <td>16.1000</td>\n",
              "      <td>1017.00</td>\n",
              "      <td>1</td>\n",
              "      <td>21.111111</td>\n",
              "    </tr>\n",
              "    <tr>\n",
              "      <th>2</th>\n",
              "      <td>Normal</td>\n",
              "      <td>0.97</td>\n",
              "      <td>5.9731</td>\n",
              "      <td>193</td>\n",
              "      <td>14.9086</td>\n",
              "      <td>1013.99</td>\n",
              "      <td>1</td>\n",
              "      <td>16.600000</td>\n",
              "    </tr>\n",
              "    <tr>\n",
              "      <th>3</th>\n",
              "      <td>Cold</td>\n",
              "      <td>0.82</td>\n",
              "      <td>3.2200</td>\n",
              "      <td>300</td>\n",
              "      <td>16.1000</td>\n",
              "      <td>1031.59</td>\n",
              "      <td>1</td>\n",
              "      <td>1.600000</td>\n",
              "    </tr>\n",
              "    <tr>\n",
              "      <th>4</th>\n",
              "      <td>Cold</td>\n",
              "      <td>0.60</td>\n",
              "      <td>10.8836</td>\n",
              "      <td>116</td>\n",
              "      <td>9.9820</td>\n",
              "      <td>1020.88</td>\n",
              "      <td>1</td>\n",
              "      <td>2.194444</td>\n",
              "    </tr>\n",
              "  </tbody>\n",
              "</table>\n",
              "</div>"
            ],
            "text/plain": [
              "  Description  Humidity  Wind_Speed_kmh  ...  Pressure_millibars  Rain  Temperature\n",
              "0        Cold      0.92         11.2700  ...             1021.60     0    -0.555556\n",
              "1        Warm      0.73         20.9300  ...             1017.00     1    21.111111\n",
              "2      Normal      0.97          5.9731  ...             1013.99     1    16.600000\n",
              "3        Cold      0.82          3.2200  ...             1031.59     1     1.600000\n",
              "4        Cold      0.60         10.8836  ...             1020.88     1     2.194444\n",
              "\n",
              "[5 rows x 8 columns]"
            ]
          },
          "metadata": {
            "tags": []
          },
          "execution_count": 8
        }
      ]
    },
    {
      "cell_type": "code",
      "metadata": {
        "colab": {
          "base_uri": "https://localhost:8080/",
          "height": 296
        },
        "id": "mPdlejAagVWx",
        "outputId": "4de8e37b-0017-455b-cc82-370dca05e1c6"
      },
      "source": [
        "# see corrilation between 2 points\n",
        "sns.scatterplot(x='Humidity', y='Temperature',hue='Description', data=weather_df)\n"
      ],
      "execution_count": null,
      "outputs": [
        {
          "output_type": "execute_result",
          "data": {
            "text/plain": [
              "<matplotlib.axes._subplots.AxesSubplot at 0x7f371cab2910>"
            ]
          },
          "metadata": {
            "tags": []
          },
          "execution_count": 12
        },
        {
          "output_type": "display_data",
          "data": {
            "image/png": "[encoded data removed]",
            "text/plain": [
              "<Figure size 432x288 with 1 Axes>"
            ]
          },
          "metadata": {
            "tags": [],
            "needs_background": "light"
          }
        }
      ]
    },
    {
      "cell_type": "code",
      "metadata": {
        "colab": {
          "base_uri": "https://localhost:8080/",
          "height": 296
        },
        "id": "NblIJHIY4iya",
        "outputId": "3cbcf01b-ad70-4c7f-a16d-b3772d7eb7f4"
      },
      "source": [
        "sns.scatterplot(x='Humidity', y='Temperature',hue='Description',size='Rain', data=weather_df)"
      ],
      "execution_count": null,
      "outputs": [
        {
          "output_type": "execute_result",
          "data": {
            "text/plain": [
              "<matplotlib.axes._subplots.AxesSubplot at 0x7f371af097d0>"
            ]
          },
          "metadata": {
            "tags": []
          },
          "execution_count": 21
        },
        {
          "output_type": "display_data",
          "data": {
            "image/png": "[encoded data removed]",
            "text/plain": [
              "<Figure size 432x288 with 1 Axes>"
            ]
          },
          "metadata": {
            "tags": [],
            "needs_background": "light"
          }
        }
      ]
    },
    {
      "cell_type": "code",
      "metadata": {
        "colab": {
          "base_uri": "https://localhost:8080/",
          "height": 296
        },
        "id": "uOoRXtDp5KXs",
        "outputId": "014b0881-21d9-4456-8dd4-ce4c53ae5075"
      },
      "source": [
        "sns.scatterplot(x='Humidity', y='Temperature',hue='Description',style='Rain', data=weather_df)"
      ],
      "execution_count": null,
      "outputs": [
        {
          "output_type": "execute_result",
          "data": {
            "text/plain": [
              "<matplotlib.axes._subplots.AxesSubplot at 0x7f371b14b6d0>"
            ]
          },
          "metadata": {
            "tags": []
          },
          "execution_count": 14
        },
        {
          "output_type": "display_data",
          "data": {
            "image/png": "[encoded data removed]",
            "text/plain": [
              "<Figure size 432x288 with 1 Axes>"
            ]
          },
          "metadata": {
            "tags": [],
            "needs_background": "light"
          }
        }
      ]
    }
  ]
}